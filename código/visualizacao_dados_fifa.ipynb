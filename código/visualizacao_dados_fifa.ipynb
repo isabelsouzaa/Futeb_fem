{
 "cells": [
  {
   "cell_type": "markdown",
   "id": "674e315b",
   "metadata": {},
   "source": [
    "### Carregando os pacotes necessários"
   ]
  },
  {
   "cell_type": "code",
   "execution_count": 1,
   "id": "78447f4f",
   "metadata": {},
   "outputs": [],
   "source": [
    "from random import random\n",
    "import pandas as pd\n",
    "import numpy as np\n",
    "#import geopandas as gpd\n",
    "import folium\n",
    "import pygal\n",
    "import sklearn\n",
    "from sklearn.preprocessing import StandardScaler\n",
    "import os"
   ]
  },
  {
   "cell_type": "code",
   "execution_count": 2,
   "id": "da755a0f",
   "metadata": {},
   "outputs": [],
   "source": [
    "import matplotlib.pyplot as plt\n",
    "%matplotlib inline\n",
    "import seaborn as sns\n",
    "import itertools\n",
    "import random"
   ]
  },
  {
   "cell_type": "markdown",
   "id": "125d49b2",
   "metadata": {},
   "source": [
    "### Carregando os arquivos "
   ]
  },
  {
   "cell_type": "code",
   "execution_count": 3,
   "id": "903f6a09",
   "metadata": {
    "scrolled": true
   },
   "outputs": [],
   "source": [
    "path = os.path.abspath(os.path.join('..', 'input'))\n",
    "path_data_winners = os.path.join(path, 'ano_vencedor_copa.csv')\n",
    "path_data_matches = os.path.join(path, 'matches.csv')\n",
    "path_data_shp = os.path.join(path, 'UIA_Latitude_Longitude_Graticules_and_World_Countries_Boundaries.shp')"
   ]
  },
  {
   "cell_type": "code",
   "execution_count": 4,
   "id": "0e7452b0",
   "metadata": {},
   "outputs": [],
   "source": [
    "matches = pd.read_csv(path_data_matches)\n",
    "winners = pd.read_csv(path_data_winners)"
   ]
  },
  {
   "cell_type": "code",
   "execution_count": 5,
   "id": "f8cf76a2",
   "metadata": {},
   "outputs": [
    {
     "data": {
      "text/html": [
       "<div>\n",
       "<style scoped>\n",
       "    .dataframe tbody tr th:only-of-type {\n",
       "        vertical-align: middle;\n",
       "    }\n",
       "\n",
       "    .dataframe tbody tr th {\n",
       "        vertical-align: top;\n",
       "    }\n",
       "\n",
       "    .dataframe thead th {\n",
       "        text-align: right;\n",
       "    }\n",
       "</style>\n",
       "<table border=\"1\" class=\"dataframe\">\n",
       "  <thead>\n",
       "    <tr style=\"text-align: right;\">\n",
       "      <th></th>\n",
       "      <th>year</th>\n",
       "      <th>match_number</th>\n",
       "      <th>team_a</th>\n",
       "      <th>goals_team_a</th>\n",
       "      <th>goals_team_b</th>\n",
       "      <th>team_b</th>\n",
       "      <th>score_diff</th>\n",
       "      <th>winner</th>\n",
       "      <th>matches_played_a</th>\n",
       "      <th>matches_won_a</th>\n",
       "      <th>...</th>\n",
       "      <th>podium_score_cum_a</th>\n",
       "      <th>matches_won_cum_percent_a</th>\n",
       "      <th>matches_played_b</th>\n",
       "      <th>matches_won_b</th>\n",
       "      <th>podium_score_b</th>\n",
       "      <th>cups_won_b</th>\n",
       "      <th>matches_played_cum_b</th>\n",
       "      <th>matches_won_cum_b</th>\n",
       "      <th>podium_score_cum_b</th>\n",
       "      <th>matches_won_cum_percent_b</th>\n",
       "    </tr>\n",
       "  </thead>\n",
       "  <tbody>\n",
       "    <tr>\n",
       "      <th>0</th>\n",
       "      <td>1991</td>\n",
       "      <td>1</td>\n",
       "      <td>China PR</td>\n",
       "      <td>4</td>\n",
       "      <td>0</td>\n",
       "      <td>Norway</td>\n",
       "      <td>4</td>\n",
       "      <td>a</td>\n",
       "      <td>3</td>\n",
       "      <td>2</td>\n",
       "      <td>...</td>\n",
       "      <td>0</td>\n",
       "      <td>66.666667</td>\n",
       "      <td>6</td>\n",
       "      <td>4</td>\n",
       "      <td>8</td>\n",
       "      <td>0</td>\n",
       "      <td>6</td>\n",
       "      <td>4</td>\n",
       "      <td>8</td>\n",
       "      <td>66.666667</td>\n",
       "    </tr>\n",
       "    <tr>\n",
       "      <th>1</th>\n",
       "      <td>1991</td>\n",
       "      <td>23</td>\n",
       "      <td>Sweden</td>\n",
       "      <td>1</td>\n",
       "      <td>4</td>\n",
       "      <td>Norway</td>\n",
       "      <td>-3</td>\n",
       "      <td>b</td>\n",
       "      <td>6</td>\n",
       "      <td>4</td>\n",
       "      <td>...</td>\n",
       "      <td>4</td>\n",
       "      <td>66.666667</td>\n",
       "      <td>6</td>\n",
       "      <td>4</td>\n",
       "      <td>8</td>\n",
       "      <td>0</td>\n",
       "      <td>6</td>\n",
       "      <td>4</td>\n",
       "      <td>8</td>\n",
       "      <td>66.666667</td>\n",
       "    </tr>\n",
       "    <tr>\n",
       "      <th>2</th>\n",
       "      <td>1991</td>\n",
       "      <td>13</td>\n",
       "      <td>China PR</td>\n",
       "      <td>4</td>\n",
       "      <td>1</td>\n",
       "      <td>New Zealand</td>\n",
       "      <td>3</td>\n",
       "      <td>a</td>\n",
       "      <td>3</td>\n",
       "      <td>2</td>\n",
       "      <td>...</td>\n",
       "      <td>0</td>\n",
       "      <td>66.666667</td>\n",
       "      <td>3</td>\n",
       "      <td>0</td>\n",
       "      <td>0</td>\n",
       "      <td>0</td>\n",
       "      <td>3</td>\n",
       "      <td>0</td>\n",
       "      <td>0</td>\n",
       "      <td>0.000000</td>\n",
       "    </tr>\n",
       "    <tr>\n",
       "      <th>3</th>\n",
       "      <td>1991</td>\n",
       "      <td>2</td>\n",
       "      <td>Denmark</td>\n",
       "      <td>3</td>\n",
       "      <td>0</td>\n",
       "      <td>New Zealand</td>\n",
       "      <td>3</td>\n",
       "      <td>a</td>\n",
       "      <td>3</td>\n",
       "      <td>1</td>\n",
       "      <td>...</td>\n",
       "      <td>0</td>\n",
       "      <td>33.333333</td>\n",
       "      <td>3</td>\n",
       "      <td>0</td>\n",
       "      <td>0</td>\n",
       "      <td>0</td>\n",
       "      <td>3</td>\n",
       "      <td>0</td>\n",
       "      <td>0</td>\n",
       "      <td>0.000000</td>\n",
       "    </tr>\n",
       "    <tr>\n",
       "      <th>4</th>\n",
       "      <td>1991</td>\n",
       "      <td>8</td>\n",
       "      <td>Norway</td>\n",
       "      <td>4</td>\n",
       "      <td>0</td>\n",
       "      <td>New Zealand</td>\n",
       "      <td>4</td>\n",
       "      <td>a</td>\n",
       "      <td>6</td>\n",
       "      <td>4</td>\n",
       "      <td>...</td>\n",
       "      <td>8</td>\n",
       "      <td>66.666667</td>\n",
       "      <td>3</td>\n",
       "      <td>0</td>\n",
       "      <td>0</td>\n",
       "      <td>0</td>\n",
       "      <td>3</td>\n",
       "      <td>0</td>\n",
       "      <td>0</td>\n",
       "      <td>0.000000</td>\n",
       "    </tr>\n",
       "    <tr>\n",
       "      <th>...</th>\n",
       "      <td>...</td>\n",
       "      <td>...</td>\n",
       "      <td>...</td>\n",
       "      <td>...</td>\n",
       "      <td>...</td>\n",
       "      <td>...</td>\n",
       "      <td>...</td>\n",
       "      <td>...</td>\n",
       "      <td>...</td>\n",
       "      <td>...</td>\n",
       "      <td>...</td>\n",
       "      <td>...</td>\n",
       "      <td>...</td>\n",
       "      <td>...</td>\n",
       "      <td>...</td>\n",
       "      <td>...</td>\n",
       "      <td>...</td>\n",
       "      <td>...</td>\n",
       "      <td>...</td>\n",
       "      <td>...</td>\n",
       "      <td>...</td>\n",
       "    </tr>\n",
       "    <tr>\n",
       "      <th>240</th>\n",
       "      <td>2019</td>\n",
       "      <td>27</td>\n",
       "      <td>South Africa</td>\n",
       "      <td>0</td>\n",
       "      <td>4</td>\n",
       "      <td>Germany</td>\n",
       "      <td>-4</td>\n",
       "      <td>b</td>\n",
       "      <td>3</td>\n",
       "      <td>0</td>\n",
       "      <td>...</td>\n",
       "      <td>0</td>\n",
       "      <td>0.000000</td>\n",
       "      <td>5</td>\n",
       "      <td>4</td>\n",
       "      <td>0</td>\n",
       "      <td>2</td>\n",
       "      <td>39</td>\n",
       "      <td>30</td>\n",
       "      <td>44</td>\n",
       "      <td>76.923077</td>\n",
       "    </tr>\n",
       "    <tr>\n",
       "      <th>241</th>\n",
       "      <td>2019</td>\n",
       "      <td>29</td>\n",
       "      <td>Jamaica</td>\n",
       "      <td>1</td>\n",
       "      <td>4</td>\n",
       "      <td>Australia</td>\n",
       "      <td>-3</td>\n",
       "      <td>b</td>\n",
       "      <td>3</td>\n",
       "      <td>0</td>\n",
       "      <td>...</td>\n",
       "      <td>0</td>\n",
       "      <td>0.000000</td>\n",
       "      <td>3</td>\n",
       "      <td>2</td>\n",
       "      <td>0</td>\n",
       "      <td>0</td>\n",
       "      <td>20</td>\n",
       "      <td>7</td>\n",
       "      <td>0</td>\n",
       "      <td>35.000000</td>\n",
       "    </tr>\n",
       "    <tr>\n",
       "      <th>242</th>\n",
       "      <td>2019</td>\n",
       "      <td>33</td>\n",
       "      <td>Netherlands</td>\n",
       "      <td>2</td>\n",
       "      <td>1</td>\n",
       "      <td>Canada</td>\n",
       "      <td>1</td>\n",
       "      <td>a</td>\n",
       "      <td>7</td>\n",
       "      <td>6</td>\n",
       "      <td>...</td>\n",
       "      <td>8</td>\n",
       "      <td>70.000000</td>\n",
       "      <td>4</td>\n",
       "      <td>2</td>\n",
       "      <td>0</td>\n",
       "      <td>0</td>\n",
       "      <td>22</td>\n",
       "      <td>8</td>\n",
       "      <td>2</td>\n",
       "      <td>36.363636</td>\n",
       "    </tr>\n",
       "    <tr>\n",
       "      <th>243</th>\n",
       "      <td>2019</td>\n",
       "      <td>42</td>\n",
       "      <td>Sweden</td>\n",
       "      <td>1</td>\n",
       "      <td>0</td>\n",
       "      <td>Canada</td>\n",
       "      <td>1</td>\n",
       "      <td>a</td>\n",
       "      <td>7</td>\n",
       "      <td>5</td>\n",
       "      <td>...</td>\n",
       "      <td>20</td>\n",
       "      <td>65.714286</td>\n",
       "      <td>4</td>\n",
       "      <td>2</td>\n",
       "      <td>0</td>\n",
       "      <td>0</td>\n",
       "      <td>22</td>\n",
       "      <td>8</td>\n",
       "      <td>2</td>\n",
       "      <td>36.363636</td>\n",
       "    </tr>\n",
       "    <tr>\n",
       "      <th>244</th>\n",
       "      <td>2019</td>\n",
       "      <td>44</td>\n",
       "      <td>Netherlands</td>\n",
       "      <td>2</td>\n",
       "      <td>1</td>\n",
       "      <td>Japan</td>\n",
       "      <td>1</td>\n",
       "      <td>a</td>\n",
       "      <td>7</td>\n",
       "      <td>6</td>\n",
       "      <td>...</td>\n",
       "      <td>8</td>\n",
       "      <td>70.000000</td>\n",
       "      <td>3</td>\n",
       "      <td>1</td>\n",
       "      <td>0</td>\n",
       "      <td>1</td>\n",
       "      <td>29</td>\n",
       "      <td>14</td>\n",
       "      <td>24</td>\n",
       "      <td>48.275862</td>\n",
       "    </tr>\n",
       "  </tbody>\n",
       "</table>\n",
       "<p>245 rows × 24 columns</p>\n",
       "</div>"
      ],
      "text/plain": [
       "     year  match_number        team_a  goals_team_a  goals_team_b  \\\n",
       "0    1991             1      China PR             4             0   \n",
       "1    1991            23        Sweden             1             4   \n",
       "2    1991            13      China PR             4             1   \n",
       "3    1991             2       Denmark             3             0   \n",
       "4    1991             8        Norway             4             0   \n",
       "..    ...           ...           ...           ...           ...   \n",
       "240  2019            27  South Africa             0             4   \n",
       "241  2019            29       Jamaica             1             4   \n",
       "242  2019            33   Netherlands             2             1   \n",
       "243  2019            42        Sweden             1             0   \n",
       "244  2019            44   Netherlands             2             1   \n",
       "\n",
       "          team_b  score_diff winner  matches_played_a  matches_won_a  ...  \\\n",
       "0         Norway           4      a                 3              2  ...   \n",
       "1         Norway          -3      b                 6              4  ...   \n",
       "2    New Zealand           3      a                 3              2  ...   \n",
       "3    New Zealand           3      a                 3              1  ...   \n",
       "4    New Zealand           4      a                 6              4  ...   \n",
       "..           ...         ...    ...               ...            ...  ...   \n",
       "240      Germany          -4      b                 3              0  ...   \n",
       "241    Australia          -3      b                 3              0  ...   \n",
       "242       Canada           1      a                 7              6  ...   \n",
       "243       Canada           1      a                 7              5  ...   \n",
       "244        Japan           1      a                 7              6  ...   \n",
       "\n",
       "     podium_score_cum_a  matches_won_cum_percent_a  matches_played_b  \\\n",
       "0                     0                  66.666667                 6   \n",
       "1                     4                  66.666667                 6   \n",
       "2                     0                  66.666667                 3   \n",
       "3                     0                  33.333333                 3   \n",
       "4                     8                  66.666667                 3   \n",
       "..                  ...                        ...               ...   \n",
       "240                   0                   0.000000                 5   \n",
       "241                   0                   0.000000                 3   \n",
       "242                   8                  70.000000                 4   \n",
       "243                  20                  65.714286                 4   \n",
       "244                   8                  70.000000                 3   \n",
       "\n",
       "     matches_won_b  podium_score_b  cups_won_b  matches_played_cum_b  \\\n",
       "0                4               8           0                     6   \n",
       "1                4               8           0                     6   \n",
       "2                0               0           0                     3   \n",
       "3                0               0           0                     3   \n",
       "4                0               0           0                     3   \n",
       "..             ...             ...         ...                   ...   \n",
       "240              4               0           2                    39   \n",
       "241              2               0           0                    20   \n",
       "242              2               0           0                    22   \n",
       "243              2               0           0                    22   \n",
       "244              1               0           1                    29   \n",
       "\n",
       "     matches_won_cum_b  podium_score_cum_b  matches_won_cum_percent_b  \n",
       "0                    4                   8                  66.666667  \n",
       "1                    4                   8                  66.666667  \n",
       "2                    0                   0                   0.000000  \n",
       "3                    0                   0                   0.000000  \n",
       "4                    0                   0                   0.000000  \n",
       "..                 ...                 ...                        ...  \n",
       "240                 30                  44                  76.923077  \n",
       "241                  7                   0                  35.000000  \n",
       "242                  8                   2                  36.363636  \n",
       "243                  8                   2                  36.363636  \n",
       "244                 14                  24                  48.275862  \n",
       "\n",
       "[245 rows x 24 columns]"
      ]
     },
     "execution_count": 5,
     "metadata": {},
     "output_type": "execute_result"
    }
   ],
   "source": [
    "matches"
   ]
  },
  {
   "cell_type": "code",
   "execution_count": 6,
   "id": "960283cd",
   "metadata": {},
   "outputs": [
    {
     "data": {
      "text/html": [
       "<div>\n",
       "<style scoped>\n",
       "    .dataframe tbody tr th:only-of-type {\n",
       "        vertical-align: middle;\n",
       "    }\n",
       "\n",
       "    .dataframe tbody tr th {\n",
       "        vertical-align: top;\n",
       "    }\n",
       "\n",
       "    .dataframe thead th {\n",
       "        text-align: right;\n",
       "    }\n",
       "</style>\n",
       "<table border=\"1\" class=\"dataframe\">\n",
       "  <thead>\n",
       "    <tr style=\"text-align: right;\">\n",
       "      <th></th>\n",
       "      <th>year</th>\n",
       "      <th>position</th>\n",
       "      <th>team</th>\n",
       "    </tr>\n",
       "  </thead>\n",
       "  <tbody>\n",
       "    <tr>\n",
       "      <th>0</th>\n",
       "      <td>1991</td>\n",
       "      <td>1</td>\n",
       "      <td>USA</td>\n",
       "    </tr>\n",
       "    <tr>\n",
       "      <th>1</th>\n",
       "      <td>1991</td>\n",
       "      <td>2</td>\n",
       "      <td>Norway</td>\n",
       "    </tr>\n",
       "    <tr>\n",
       "      <th>2</th>\n",
       "      <td>1991</td>\n",
       "      <td>3</td>\n",
       "      <td>Sweden</td>\n",
       "    </tr>\n",
       "    <tr>\n",
       "      <th>3</th>\n",
       "      <td>1991</td>\n",
       "      <td>4</td>\n",
       "      <td>Germany</td>\n",
       "    </tr>\n",
       "    <tr>\n",
       "      <th>4</th>\n",
       "      <td>1995</td>\n",
       "      <td>1</td>\n",
       "      <td>Norway</td>\n",
       "    </tr>\n",
       "    <tr>\n",
       "      <th>5</th>\n",
       "      <td>1995</td>\n",
       "      <td>2</td>\n",
       "      <td>Germany</td>\n",
       "    </tr>\n",
       "    <tr>\n",
       "      <th>6</th>\n",
       "      <td>1995</td>\n",
       "      <td>3</td>\n",
       "      <td>USA</td>\n",
       "    </tr>\n",
       "    <tr>\n",
       "      <th>7</th>\n",
       "      <td>1995</td>\n",
       "      <td>4</td>\n",
       "      <td>China PR</td>\n",
       "    </tr>\n",
       "    <tr>\n",
       "      <th>8</th>\n",
       "      <td>1999</td>\n",
       "      <td>1</td>\n",
       "      <td>USA</td>\n",
       "    </tr>\n",
       "    <tr>\n",
       "      <th>9</th>\n",
       "      <td>1999</td>\n",
       "      <td>2</td>\n",
       "      <td>China PR</td>\n",
       "    </tr>\n",
       "    <tr>\n",
       "      <th>10</th>\n",
       "      <td>1999</td>\n",
       "      <td>3</td>\n",
       "      <td>Brazil</td>\n",
       "    </tr>\n",
       "    <tr>\n",
       "      <th>11</th>\n",
       "      <td>1999</td>\n",
       "      <td>4</td>\n",
       "      <td>Norway</td>\n",
       "    </tr>\n",
       "    <tr>\n",
       "      <th>12</th>\n",
       "      <td>2003</td>\n",
       "      <td>1</td>\n",
       "      <td>Germany</td>\n",
       "    </tr>\n",
       "    <tr>\n",
       "      <th>13</th>\n",
       "      <td>2003</td>\n",
       "      <td>2</td>\n",
       "      <td>Sweden</td>\n",
       "    </tr>\n",
       "    <tr>\n",
       "      <th>14</th>\n",
       "      <td>2003</td>\n",
       "      <td>3</td>\n",
       "      <td>USA</td>\n",
       "    </tr>\n",
       "    <tr>\n",
       "      <th>15</th>\n",
       "      <td>2003</td>\n",
       "      <td>4</td>\n",
       "      <td>Canada</td>\n",
       "    </tr>\n",
       "    <tr>\n",
       "      <th>16</th>\n",
       "      <td>2007</td>\n",
       "      <td>1</td>\n",
       "      <td>Germany</td>\n",
       "    </tr>\n",
       "    <tr>\n",
       "      <th>17</th>\n",
       "      <td>2007</td>\n",
       "      <td>2</td>\n",
       "      <td>Brazil</td>\n",
       "    </tr>\n",
       "    <tr>\n",
       "      <th>18</th>\n",
       "      <td>2007</td>\n",
       "      <td>3</td>\n",
       "      <td>USA</td>\n",
       "    </tr>\n",
       "    <tr>\n",
       "      <th>19</th>\n",
       "      <td>2007</td>\n",
       "      <td>4</td>\n",
       "      <td>Norway</td>\n",
       "    </tr>\n",
       "    <tr>\n",
       "      <th>20</th>\n",
       "      <td>2011</td>\n",
       "      <td>1</td>\n",
       "      <td>Japan</td>\n",
       "    </tr>\n",
       "    <tr>\n",
       "      <th>21</th>\n",
       "      <td>2011</td>\n",
       "      <td>2</td>\n",
       "      <td>USA</td>\n",
       "    </tr>\n",
       "    <tr>\n",
       "      <th>22</th>\n",
       "      <td>2011</td>\n",
       "      <td>3</td>\n",
       "      <td>Sweden</td>\n",
       "    </tr>\n",
       "    <tr>\n",
       "      <th>23</th>\n",
       "      <td>2011</td>\n",
       "      <td>4</td>\n",
       "      <td>France</td>\n",
       "    </tr>\n",
       "    <tr>\n",
       "      <th>24</th>\n",
       "      <td>2015</td>\n",
       "      <td>1</td>\n",
       "      <td>USA</td>\n",
       "    </tr>\n",
       "    <tr>\n",
       "      <th>25</th>\n",
       "      <td>2015</td>\n",
       "      <td>2</td>\n",
       "      <td>Japan</td>\n",
       "    </tr>\n",
       "    <tr>\n",
       "      <th>26</th>\n",
       "      <td>2015</td>\n",
       "      <td>3</td>\n",
       "      <td>England</td>\n",
       "    </tr>\n",
       "    <tr>\n",
       "      <th>27</th>\n",
       "      <td>2015</td>\n",
       "      <td>4</td>\n",
       "      <td>Germany</td>\n",
       "    </tr>\n",
       "    <tr>\n",
       "      <th>28</th>\n",
       "      <td>2019</td>\n",
       "      <td>1</td>\n",
       "      <td>USA</td>\n",
       "    </tr>\n",
       "    <tr>\n",
       "      <th>29</th>\n",
       "      <td>2019</td>\n",
       "      <td>2</td>\n",
       "      <td>Netherlands</td>\n",
       "    </tr>\n",
       "    <tr>\n",
       "      <th>30</th>\n",
       "      <td>2019</td>\n",
       "      <td>3</td>\n",
       "      <td>Sweden</td>\n",
       "    </tr>\n",
       "    <tr>\n",
       "      <th>31</th>\n",
       "      <td>2019</td>\n",
       "      <td>4</td>\n",
       "      <td>England</td>\n",
       "    </tr>\n",
       "  </tbody>\n",
       "</table>\n",
       "</div>"
      ],
      "text/plain": [
       "    year  position         team\n",
       "0   1991         1          USA\n",
       "1   1991         2       Norway\n",
       "2   1991         3       Sweden\n",
       "3   1991         4      Germany\n",
       "4   1995         1       Norway\n",
       "5   1995         2      Germany\n",
       "6   1995         3          USA\n",
       "7   1995         4     China PR\n",
       "8   1999         1          USA\n",
       "9   1999         2     China PR\n",
       "10  1999         3       Brazil\n",
       "11  1999         4       Norway\n",
       "12  2003         1      Germany\n",
       "13  2003         2       Sweden\n",
       "14  2003         3          USA\n",
       "15  2003         4       Canada\n",
       "16  2007         1      Germany\n",
       "17  2007         2       Brazil\n",
       "18  2007         3          USA\n",
       "19  2007         4       Norway\n",
       "20  2011         1        Japan\n",
       "21  2011         2          USA\n",
       "22  2011         3       Sweden\n",
       "23  2011         4       France\n",
       "24  2015         1          USA\n",
       "25  2015         2        Japan\n",
       "26  2015         3      England\n",
       "27  2015         4      Germany\n",
       "28  2019         1          USA\n",
       "29  2019         2  Netherlands\n",
       "30  2019         3       Sweden\n",
       "31  2019         4      England"
      ]
     },
     "execution_count": 6,
     "metadata": {},
     "output_type": "execute_result"
    }
   ],
   "source": [
    "winners.rename (columns = {'Ano': 'year', 'Num': 'position', 'TimeA': 'team'}, inplace=True)\n",
    "winners"
   ]
  },
  {
   "cell_type": "markdown",
   "id": "95305255",
   "metadata": {},
   "source": [
    "### Pegando o ano mais recente (2019) - Percentual de vitórias;"
   ]
  },
  {
   "cell_type": "code",
   "execution_count": 7,
   "id": "755b4f29",
   "metadata": {},
   "outputs": [],
   "source": [
    "matches2019 = pd.DataFrame(matches.loc[matches['year'] == 2019,:].sort_values(by = 'cups_won_a', ascending = False)).reset_index()"
   ]
  },
  {
   "cell_type": "code",
   "execution_count": 8,
   "id": "8507ded5",
   "metadata": {
    "scrolled": false
   },
   "outputs": [
    {
     "data": {
      "text/plain": [
       "Text(0.5, 0, 'Time (a)')"
      ]
     },
     "execution_count": 8,
     "metadata": {},
     "output_type": "execute_result"
    },
    {
     "data": {
      "image/png": "[encoded data removed]",
      "text/plain": [
       "<Figure size 1800x720 with 1 Axes>"
      ]
     },
     "metadata": {
      "needs_background": "light"
     },
     "output_type": "display_data"
    }
   ],
   "source": [
    "f, (ax1) = plt.subplots(1, 1, figsize=(25, 10), sharex=True)\n",
    "sns.set_color_codes(\"deep\")\n",
    "sns.barplot(x='team_a', y='matches_won_cum_percent_a', data = matches2019.drop_duplicates(), palette = 'deep', ax=ax1)\n",
    "ax1.set_ylabel(\"Percentual de Vitorias\")\n",
    "ax1.set_xlabel(\"Time (a)\")"
   ]
  },
  {
   "cell_type": "markdown",
   "id": "8569779c",
   "metadata": {},
   "source": [
    "### Partidas jogadas e partidas ganhas;"
   ]
  },
  {
   "cell_type": "code",
   "execution_count": 9,
   "id": "2ce7f720",
   "metadata": {},
   "outputs": [
    {
     "data": {
      "image/png": "[encoded data removed]",
      "text/plain": [
       "<Figure size 720x504 with 1 Axes>"
      ]
     },
     "metadata": {
      "needs_background": "light"
     },
     "output_type": "display_data"
    }
   ],
   "source": [
    "f, ax = plt.subplots(figsize=(10, 7))\n",
    "sns.set_color_codes(\"pastel\")\n",
    "sns.barplot(x=\"matches_played_a\", y=\"team_a\", data=matches2019.drop_duplicates(),\n",
    "            label=\"Matches Played\", color=\"b\")\n",
    "\n",
    "sns.set_color_codes(\"muted\")\n",
    "sns.barplot(x=\"matches_won_a\", y=\"team_a\", data=matches2019.drop_duplicates(),\n",
    "            label=\"Matches Won\", color=\"b\")\n",
    "\n",
    "\n",
    "ax.legend(ncol=2, loc=\"lower right\", frameon=True)\n",
    "ax.set(xlim=(0, 10), ylabel=\"\",\n",
    "       xlabel=\"Partidas Jogadas e Ganhas (2019)\")\n",
    "sns.despine(left=True, bottom=True)"
   ]
  },
  {
   "cell_type": "markdown",
   "id": "b00a13d0",
   "metadata": {},
   "source": [
    "### Percentual de partidas ganhas e de pódio;"
   ]
  },
  {
   "cell_type": "code",
   "execution_count": 10,
   "id": "f09a3ec0",
   "metadata": {},
   "outputs": [
    {
     "data": {
      "image/png": "[encoded data removed]",
      "text/plain": [
       "<Figure size 720x504 with 1 Axes>"
      ]
     },
     "metadata": {
      "needs_background": "light"
     },
     "output_type": "display_data"
    }
   ],
   "source": [
    "f, ax = plt.subplots(figsize=(10, 7))\n",
    "\n",
    "sns.set_color_codes(\"pastel\")\n",
    "sns.barplot(x=\"matches_won_cum_percent_a\", y=\"team_a\", data=matches2019.drop_duplicates(),\n",
    "            label=\"Matches Won\", color=\"b\")\n",
    "\n",
    "sns.set_color_codes(\"muted\")\n",
    "sns.barplot(x=\"podium_score_cum_a\", y=\"team_a\", data=matches2019.drop_duplicates(),\n",
    "            label=\"Podium Score\", color=\"b\")\n",
    "\n",
    "ax.legend(ncol=2, loc=\"lower right\", frameon=True)\n",
    "ax.set(xlim=(0, 99), ylabel=\"\",\n",
    "       xlabel=\"(%) Partidas Ganhas e Pódio (2019)\")\n",
    "sns.despine(left=True, bottom=True)"
   ]
  },
  {
   "cell_type": "markdown",
   "id": "0e1b0a2a",
   "metadata": {},
   "source": [
    "### Para os 5 últimos anos e para os 4 principais times;"
   ]
  },
  {
   "cell_type": "code",
   "execution_count": 11,
   "id": "e8ba6401",
   "metadata": {},
   "outputs": [],
   "source": [
    "years = [2003,2007,2011,2015,2019]\n",
    "matches2 = pd.DataFrame(matches.loc[matches['year'].isin(years),:].sort_values(by = 'cups_won_a', ascending = False).reset_index())\n",
    "teams = matches2['team_a'].drop_duplicates()[:4].to_list()\n",
    "matches2 = matches2.loc[matches2['team_a'].isin(teams),:]"
   ]
  },
  {
   "cell_type": "markdown",
   "id": "64f1e42b",
   "metadata": {},
   "source": [
    "### Percentual de partidas ganhas"
   ]
  },
  {
   "cell_type": "code",
   "execution_count": 12,
   "id": "2cbed332",
   "metadata": {},
   "outputs": [
    {
     "data": {
      "text/plain": [
       "Text(0.5, 0, 'Ano')"
      ]
     },
     "execution_count": 12,
     "metadata": {},
     "output_type": "execute_result"
    },
    {
     "data": {
      "image/png": "[encoded data removed]",
      "text/plain": [
       "<Figure size 720x504 with 1 Axes>"
      ]
     },
     "metadata": {
      "needs_background": "light"
     },
     "output_type": "display_data"
    }
   ],
   "source": [
    "f, (ax1) = plt.subplots(1, 1, figsize=(10, 7), sharex=True)\n",
    "sns.set_theme(style=\"whitegrid\")\n",
    "sns.lineplot(x = 'year', y='matches_won_cum_percent_a', hue = 'team_a', data = matches2.drop_duplicates(), palette = 'tab10', ax=ax1)\n",
    "ax1.set_ylabel(\"Percentual de Vitorias\")\n",
    "ax1.set_xlabel(\"Ano\")\n"
   ]
  },
  {
   "cell_type": "markdown",
   "id": "ac673cc7",
   "metadata": {},
   "source": [
    "### Partidas jogadas e partidas ganhas"
   ]
  },
  {
   "cell_type": "code",
   "execution_count": 13,
   "id": "8f6b93ff",
   "metadata": {},
   "outputs": [
    {
     "data": {
      "image/png": "[encoded data removed]",
      "text/plain": [
       "<Figure size 720x504 with 1 Axes>"
      ]
     },
     "metadata": {},
     "output_type": "display_data"
    }
   ],
   "source": [
    "f, ax = plt.subplots(figsize=(10, 7))\n",
    "sns.set_color_codes(\"pastel\")\n",
    "sns.barplot(x=\"matches_played_a\", y=\"team_a\", data=matches2,\n",
    "            label=\"Matches Played\", color=\"b\")\n",
    "\n",
    "sns.set_color_codes(\"muted\")\n",
    "sns.barplot(x=\"matches_won_a\", y=\"team_a\", data=matches2,\n",
    "            label=\"Matches Won\", color=\"b\")\n",
    "\n",
    "\n",
    "ax.legend(ncol=2, loc=\"lower right\", frameon=True)\n",
    "ax.set(xlim=(0, 10), ylabel=\"\",\n",
    "       xlabel=\"Partidas Jogadas e Ganhas (2003-2019)\")\n",
    "sns.despine(left=True, bottom=True)"
   ]
  },
  {
   "cell_type": "markdown",
   "id": "2ed00bd0",
   "metadata": {},
   "source": [
    "## Número de pódios para os países;"
   ]
  },
  {
   "cell_type": "code",
   "execution_count": 14,
   "id": "3504525b",
   "metadata": {},
   "outputs": [
    {
     "ename": "NameError",
     "evalue": "name 'gpd' is not defined",
     "output_type": "error",
     "traceback": [
      "\u001b[1;31m---------------------------------------------------------------------------\u001b[0m",
      "\u001b[1;31mNameError\u001b[0m                                 Traceback (most recent call last)",
      "Input \u001b[1;32mIn [14]\u001b[0m, in \u001b[0;36m<cell line: 2>\u001b[1;34m()\u001b[0m\n\u001b[0;32m      1\u001b[0m win \u001b[38;5;241m=\u001b[39m winners\u001b[38;5;241m.\u001b[39mgroupby(by \u001b[38;5;241m=\u001b[39m [\u001b[38;5;124m'\u001b[39m\u001b[38;5;124mteam\u001b[39m\u001b[38;5;124m'\u001b[39m])\u001b[38;5;241m.\u001b[39magg({\u001b[38;5;124m'\u001b[39m\u001b[38;5;124mteam\u001b[39m\u001b[38;5;124m'\u001b[39m: \u001b[38;5;124m'\u001b[39m\u001b[38;5;124mcount\u001b[39m\u001b[38;5;124m'\u001b[39m})\n\u001b[1;32m----> 2\u001b[0m shp \u001b[38;5;241m=\u001b[39m \u001b[43mgpd\u001b[49m\u001b[38;5;241m.\u001b[39mread_file(path_data_shp)\u001b[38;5;241m.\u001b[39mreplace([\u001b[38;5;124m'\u001b[39m\u001b[38;5;124mChina\u001b[39m\u001b[38;5;124m'\u001b[39m, \u001b[38;5;124m'\u001b[39m\u001b[38;5;124mUnited Kingdom\u001b[39m\u001b[38;5;124m'\u001b[39m, \u001b[38;5;124m'\u001b[39m\u001b[38;5;124mUnited States\u001b[39m\u001b[38;5;124m'\u001b[39m], [\u001b[38;5;124m'\u001b[39m\u001b[38;5;124mChina PR\u001b[39m\u001b[38;5;124m'\u001b[39m, \u001b[38;5;124m'\u001b[39m\u001b[38;5;124mEngland\u001b[39m\u001b[38;5;124m'\u001b[39m,\u001b[38;5;124m'\u001b[39m\u001b[38;5;124mUSA\u001b[39m\u001b[38;5;124m'\u001b[39m])\n\u001b[0;32m      3\u001b[0m shp\u001b[38;5;241m.\u001b[39mhead()\n",
      "\u001b[1;31mNameError\u001b[0m: name 'gpd' is not defined"
     ]
    }
   ],
   "source": [
    "win = winners.groupby(by = ['team']).agg({'team': 'count'})\n",
    "shp = gpd.read_file(path_data_shp).replace(['China', 'United Kingdom', 'United States'], ['China PR', 'England','USA'])\n",
    "shp.head()"
   ]
  },
  {
   "cell_type": "code",
   "execution_count": null,
   "id": "fe87f172",
   "metadata": {},
   "outputs": [],
   "source": [
    "for _ in shp.index:\n",
    "    country = shp.loc[_]['CNTRY_NAME']\n",
    "    if country in win.index:\n",
    "        shp.at[_, 'N_podios'] = win.loc[country]['team']\n",
    "    else:\n",
    "        shp.at[_, 'N_podios'] = 0\n",
    "        \n",
    "shp.head()"
   ]
  },
  {
   "cell_type": "code",
   "execution_count": null,
   "id": "c5ba22a6",
   "metadata": {},
   "outputs": [],
   "source": [
    "win"
   ]
  },
  {
   "cell_type": "code",
   "execution_count": null,
   "id": "6ffcf4c0",
   "metadata": {},
   "outputs": [],
   "source": [
    "shp.explore('N_podios')"
   ]
  },
  {
   "cell_type": "code",
   "execution_count": 15,
   "id": "26064f9a",
   "metadata": {},
   "outputs": [
    {
     "data": {
      "image/png": "[encoded data removed]",
      "text/plain": [
       "<Figure size 1008x432 with 1 Axes>"
      ]
     },
     "metadata": {},
     "output_type": "display_data"
    }
   ],
   "source": [
    "podium = pd.DataFrame({'1 Lugar': winners.loc[winners['position'] == 1, 'team'].value_counts(), \n",
    "                       '2 Lugar': winners.loc[winners['position'] == 2, 'team'].value_counts(), \n",
    "                       '3 Lugar': winners.loc[winners['position'] == 3, 'team'].value_counts()}, \n",
    "                       index = winners['team'])\n",
    "ax = podium.drop_duplicates().plot.bar(stacked = True, figsize = (14,6), xlabel = 'País')"
   ]
  },
  {
   "cell_type": "markdown",
   "id": "459158b9",
   "metadata": {},
   "source": [
    "### Selecionando os 4 principais países;"
   ]
  },
  {
   "cell_type": "code",
   "execution_count": 16,
   "id": "d3363847",
   "metadata": {},
   "outputs": [],
   "source": [
    "top4 = podium.sort_values(by = '1 Lugar', ascending = False).drop_duplicates()[:4].index.to_list()"
   ]
  },
  {
   "cell_type": "markdown",
   "id": "e7abd2a8",
   "metadata": {},
   "source": [
    "#### Evolução do número de pódios no acumulado 1991-2019"
   ]
  },
  {
   "cell_type": "code",
   "execution_count": 17,
   "id": "68fbe39b",
   "metadata": {},
   "outputs": [
    {
     "data": {
      "text/plain": [
       "<AxesSubplot:>"
      ]
     },
     "execution_count": 17,
     "metadata": {},
     "output_type": "execute_result"
    },
    {
     "data": {
      "image/png": "[encoded data removed]",
      "text/plain": [
       "<Figure size 1008x432 with 1 Axes>"
      ]
     },
     "metadata": {},
     "output_type": "display_data"
    }
   ],
   "source": [
    "pd.DataFrame([winners.loc[winners['team'] == 'USA', 'position'].value_counts(),\n",
    "              winners.loc[winners['team'] == 'Germany', 'position'].value_counts(),\n",
    "              winners.loc[winners['team'] == 'Norway', 'position'].value_counts(), \n",
    "              winners.loc[winners['team'] == 'Sweden', 'position'].value_counts()], index = top4).plot.bar(stacked = True, figsize = (14,6))\n",
    "\n",
    "\n"
   ]
  },
  {
   "cell_type": "markdown",
   "id": "02eaa4fe",
   "metadata": {},
   "source": [
    "### Anos em que ocuparam o pódio;"
   ]
  },
  {
   "cell_type": "code",
   "execution_count": 18,
   "id": "6448d967",
   "metadata": {},
   "outputs": [
    {
     "data": {
      "text/plain": [
       "<AxesSubplot:>"
      ]
     },
     "execution_count": 18,
     "metadata": {},
     "output_type": "execute_result"
    },
    {
     "data": {
      "image/png": "[encoded data removed]",
      "text/plain": [
       "<Figure size 1008x432 with 1 Axes>"
      ]
     },
     "metadata": {},
     "output_type": "display_data"
    }
   ],
   "source": [
    "pd.DataFrame([winners.loc[winners['team'] == 'USA', 'year'].value_counts(),\n",
    "              winners.loc[winners['team'] == 'Germany', 'year'].value_counts(),\n",
    "              winners.loc[winners['team'] == 'Norway', 'year'].value_counts(), \n",
    "              winners.loc[winners['team'] == 'Sweden', 'year'].value_counts()], index = top4).plot.barh(stacked = True, figsize = (14,6))"
   ]
  },
  {
   "cell_type": "code",
   "execution_count": null,
   "id": "ce9035fc",
   "metadata": {},
   "outputs": [],
   "source": []
  },
  {
   "cell_type": "code",
   "execution_count": null,
   "id": "b55312e5",
   "metadata": {},
   "outputs": [],
   "source": []
  },
  {
   "cell_type": "code",
   "execution_count": null,
   "id": "b7aea327",
   "metadata": {},
   "outputs": [],
   "source": []
  },
  {
   "cell_type": "code",
   "execution_count": null,
   "id": "d0910f58",
   "metadata": {},
   "outputs": [],
   "source": []
  }
 ],
 "metadata": {
  "kernelspec": {
   "display_name": "Python 3",
   "language": "python",
   "name": "python3"
  },
  "language_info": {
   "codemirror_mode": {
    "name": "ipython",
    "version": 3
   },
   "file_extension": ".py",
   "mimetype": "text/x-python",
   "name": "python",
   "nbconvert_exporter": "python",
   "pygments_lexer": "ipython3",
   "version": "3.9.12"
  }
 },
 "nbformat": 4,
 "nbformat_minor": 5
}
