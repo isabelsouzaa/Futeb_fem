{
 "cells": [
  {
   "cell_type": "markdown",
   "id": "2747c3ae",
   "metadata": {},
   "source": [
    "### Carregando os pacotes necessários"
   ]
  },
  {
   "cell_type": "code",
   "execution_count": 1,
   "id": "e0de0f6c",
   "metadata": {},
   "outputs": [],
   "source": [
    "import os\n",
    "import pandas as pd\n",
    "import numpy as np"
   ]
  },
  {
   "cell_type": "code",
   "execution_count": 2,
   "id": "13840298",
   "metadata": {
    "scrolled": true
   },
   "outputs": [
    {
     "name": "stdout",
     "output_type": "stream",
     "text": [
      "^C\n",
      "^C\n"
     ]
    }
   ],
   "source": [
    "!pip install keras\n",
    "!pip install tensorflow"
   ]
  },
  {
   "cell_type": "code",
   "execution_count": 2,
   "id": "5ceffc39",
   "metadata": {},
   "outputs": [],
   "source": [
    "from keras.models import Sequential\n",
    "from keras.layers import Dense\n",
    "from keras.wrappers.scikit_learn import KerasClassifier\n",
    "from keras.utils import np_utils\n",
    "from keras import optimizers\n",
    "from keras.models import Model\n",
    "import pickle"
   ]
  },
  {
   "cell_type": "code",
   "execution_count": 3,
   "id": "17880227",
   "metadata": {},
   "outputs": [],
   "source": [
    "from sklearn import model_selection\n",
    "from sklearn.model_selection import cross_val_score\n",
    "from sklearn.preprocessing import LabelEncoder\n",
    "from sklearn.model_selection import StratifiedKFold\n",
    "from sklearn.preprocessing import StandardScaler\n",
    "from sklearn.pipeline import Pipeline\n",
    "from sklearn.metrics import accuracy_score"
   ]
  },
  {
   "cell_type": "markdown",
   "id": "339cd492",
   "metadata": {},
   "source": [
    "### Criando as variáveis"
   ]
  },
  {
   "cell_type": "code",
   "execution_count": 4,
   "id": "1448aef0",
   "metadata": {},
   "outputs": [],
   "source": [
    "path = os.path.abspath(os.path.join('..', 'input'))\n",
    "path_data_matches = os.path.join(path, 'matches.csv')"
   ]
  },
  {
   "cell_type": "code",
   "execution_count": 5,
   "id": "7f00b7d4",
   "metadata": {},
   "outputs": [],
   "source": [
    "seed = 7\n",
    "np.random.seed(seed)"
   ]
  },
  {
   "cell_type": "code",
   "execution_count": 6,
   "id": "95dd0541",
   "metadata": {},
   "outputs": [],
   "source": [
    "dataframe = pd.read_csv(path_data_matches)"
   ]
  },
  {
   "cell_type": "code",
   "execution_count": 7,
   "id": "d962c1a2",
   "metadata": {},
   "outputs": [
    {
     "data": {
      "text/html": [
       "<div>\n",
       "<style scoped>\n",
       "    .dataframe tbody tr th:only-of-type {\n",
       "        vertical-align: middle;\n",
       "    }\n",
       "\n",
       "    .dataframe tbody tr th {\n",
       "        vertical-align: top;\n",
       "    }\n",
       "\n",
       "    .dataframe thead th {\n",
       "        text-align: right;\n",
       "    }\n",
       "</style>\n",
       "<table border=\"1\" class=\"dataframe\">\n",
       "  <thead>\n",
       "    <tr style=\"text-align: right;\">\n",
       "      <th></th>\n",
       "      <th>year</th>\n",
       "      <th>match_number</th>\n",
       "      <th>team_a</th>\n",
       "      <th>goals_team_a</th>\n",
       "      <th>goals_team_b</th>\n",
       "      <th>team_b</th>\n",
       "      <th>score_diff</th>\n",
       "      <th>winner</th>\n",
       "      <th>matches_played_a</th>\n",
       "      <th>matches_won_a</th>\n",
       "      <th>...</th>\n",
       "      <th>podium_score_cum_a</th>\n",
       "      <th>matches_won_cum_percent_a</th>\n",
       "      <th>matches_played_b</th>\n",
       "      <th>matches_won_b</th>\n",
       "      <th>podium_score_b</th>\n",
       "      <th>cups_won_b</th>\n",
       "      <th>matches_played_cum_b</th>\n",
       "      <th>matches_won_cum_b</th>\n",
       "      <th>podium_score_cum_b</th>\n",
       "      <th>matches_won_cum_percent_b</th>\n",
       "    </tr>\n",
       "  </thead>\n",
       "  <tbody>\n",
       "    <tr>\n",
       "      <th>0</th>\n",
       "      <td>1991</td>\n",
       "      <td>1</td>\n",
       "      <td>China PR</td>\n",
       "      <td>4</td>\n",
       "      <td>0</td>\n",
       "      <td>Norway</td>\n",
       "      <td>4</td>\n",
       "      <td>a</td>\n",
       "      <td>3</td>\n",
       "      <td>2</td>\n",
       "      <td>...</td>\n",
       "      <td>0</td>\n",
       "      <td>66.666667</td>\n",
       "      <td>6</td>\n",
       "      <td>4</td>\n",
       "      <td>8</td>\n",
       "      <td>0</td>\n",
       "      <td>6</td>\n",
       "      <td>4</td>\n",
       "      <td>8</td>\n",
       "      <td>66.666667</td>\n",
       "    </tr>\n",
       "    <tr>\n",
       "      <th>1</th>\n",
       "      <td>1991</td>\n",
       "      <td>23</td>\n",
       "      <td>Sweden</td>\n",
       "      <td>1</td>\n",
       "      <td>4</td>\n",
       "      <td>Norway</td>\n",
       "      <td>-3</td>\n",
       "      <td>b</td>\n",
       "      <td>6</td>\n",
       "      <td>4</td>\n",
       "      <td>...</td>\n",
       "      <td>4</td>\n",
       "      <td>66.666667</td>\n",
       "      <td>6</td>\n",
       "      <td>4</td>\n",
       "      <td>8</td>\n",
       "      <td>0</td>\n",
       "      <td>6</td>\n",
       "      <td>4</td>\n",
       "      <td>8</td>\n",
       "      <td>66.666667</td>\n",
       "    </tr>\n",
       "    <tr>\n",
       "      <th>2</th>\n",
       "      <td>1991</td>\n",
       "      <td>13</td>\n",
       "      <td>China PR</td>\n",
       "      <td>4</td>\n",
       "      <td>1</td>\n",
       "      <td>New Zealand</td>\n",
       "      <td>3</td>\n",
       "      <td>a</td>\n",
       "      <td>3</td>\n",
       "      <td>2</td>\n",
       "      <td>...</td>\n",
       "      <td>0</td>\n",
       "      <td>66.666667</td>\n",
       "      <td>3</td>\n",
       "      <td>0</td>\n",
       "      <td>0</td>\n",
       "      <td>0</td>\n",
       "      <td>3</td>\n",
       "      <td>0</td>\n",
       "      <td>0</td>\n",
       "      <td>0.000000</td>\n",
       "    </tr>\n",
       "    <tr>\n",
       "      <th>3</th>\n",
       "      <td>1991</td>\n",
       "      <td>2</td>\n",
       "      <td>Denmark</td>\n",
       "      <td>3</td>\n",
       "      <td>0</td>\n",
       "      <td>New Zealand</td>\n",
       "      <td>3</td>\n",
       "      <td>a</td>\n",
       "      <td>3</td>\n",
       "      <td>1</td>\n",
       "      <td>...</td>\n",
       "      <td>0</td>\n",
       "      <td>33.333333</td>\n",
       "      <td>3</td>\n",
       "      <td>0</td>\n",
       "      <td>0</td>\n",
       "      <td>0</td>\n",
       "      <td>3</td>\n",
       "      <td>0</td>\n",
       "      <td>0</td>\n",
       "      <td>0.000000</td>\n",
       "    </tr>\n",
       "    <tr>\n",
       "      <th>4</th>\n",
       "      <td>1991</td>\n",
       "      <td>8</td>\n",
       "      <td>Norway</td>\n",
       "      <td>4</td>\n",
       "      <td>0</td>\n",
       "      <td>New Zealand</td>\n",
       "      <td>4</td>\n",
       "      <td>a</td>\n",
       "      <td>6</td>\n",
       "      <td>4</td>\n",
       "      <td>...</td>\n",
       "      <td>8</td>\n",
       "      <td>66.666667</td>\n",
       "      <td>3</td>\n",
       "      <td>0</td>\n",
       "      <td>0</td>\n",
       "      <td>0</td>\n",
       "      <td>3</td>\n",
       "      <td>0</td>\n",
       "      <td>0</td>\n",
       "      <td>0.000000</td>\n",
       "    </tr>\n",
       "    <tr>\n",
       "      <th>...</th>\n",
       "      <td>...</td>\n",
       "      <td>...</td>\n",
       "      <td>...</td>\n",
       "      <td>...</td>\n",
       "      <td>...</td>\n",
       "      <td>...</td>\n",
       "      <td>...</td>\n",
       "      <td>...</td>\n",
       "      <td>...</td>\n",
       "      <td>...</td>\n",
       "      <td>...</td>\n",
       "      <td>...</td>\n",
       "      <td>...</td>\n",
       "      <td>...</td>\n",
       "      <td>...</td>\n",
       "      <td>...</td>\n",
       "      <td>...</td>\n",
       "      <td>...</td>\n",
       "      <td>...</td>\n",
       "      <td>...</td>\n",
       "      <td>...</td>\n",
       "    </tr>\n",
       "    <tr>\n",
       "      <th>240</th>\n",
       "      <td>2019</td>\n",
       "      <td>27</td>\n",
       "      <td>South Africa</td>\n",
       "      <td>0</td>\n",
       "      <td>4</td>\n",
       "      <td>Germany</td>\n",
       "      <td>-4</td>\n",
       "      <td>b</td>\n",
       "      <td>3</td>\n",
       "      <td>0</td>\n",
       "      <td>...</td>\n",
       "      <td>0</td>\n",
       "      <td>0.000000</td>\n",
       "      <td>5</td>\n",
       "      <td>4</td>\n",
       "      <td>0</td>\n",
       "      <td>2</td>\n",
       "      <td>39</td>\n",
       "      <td>30</td>\n",
       "      <td>44</td>\n",
       "      <td>76.923077</td>\n",
       "    </tr>\n",
       "    <tr>\n",
       "      <th>241</th>\n",
       "      <td>2019</td>\n",
       "      <td>29</td>\n",
       "      <td>Jamaica</td>\n",
       "      <td>1</td>\n",
       "      <td>4</td>\n",
       "      <td>Australia</td>\n",
       "      <td>-3</td>\n",
       "      <td>b</td>\n",
       "      <td>3</td>\n",
       "      <td>0</td>\n",
       "      <td>...</td>\n",
       "      <td>0</td>\n",
       "      <td>0.000000</td>\n",
       "      <td>3</td>\n",
       "      <td>2</td>\n",
       "      <td>0</td>\n",
       "      <td>0</td>\n",
       "      <td>20</td>\n",
       "      <td>7</td>\n",
       "      <td>0</td>\n",
       "      <td>35.000000</td>\n",
       "    </tr>\n",
       "    <tr>\n",
       "      <th>242</th>\n",
       "      <td>2019</td>\n",
       "      <td>33</td>\n",
       "      <td>Netherlands</td>\n",
       "      <td>2</td>\n",
       "      <td>1</td>\n",
       "      <td>Canada</td>\n",
       "      <td>1</td>\n",
       "      <td>a</td>\n",
       "      <td>7</td>\n",
       "      <td>6</td>\n",
       "      <td>...</td>\n",
       "      <td>8</td>\n",
       "      <td>70.000000</td>\n",
       "      <td>4</td>\n",
       "      <td>2</td>\n",
       "      <td>0</td>\n",
       "      <td>0</td>\n",
       "      <td>22</td>\n",
       "      <td>8</td>\n",
       "      <td>2</td>\n",
       "      <td>36.363636</td>\n",
       "    </tr>\n",
       "    <tr>\n",
       "      <th>243</th>\n",
       "      <td>2019</td>\n",
       "      <td>42</td>\n",
       "      <td>Sweden</td>\n",
       "      <td>1</td>\n",
       "      <td>0</td>\n",
       "      <td>Canada</td>\n",
       "      <td>1</td>\n",
       "      <td>a</td>\n",
       "      <td>7</td>\n",
       "      <td>5</td>\n",
       "      <td>...</td>\n",
       "      <td>20</td>\n",
       "      <td>65.714286</td>\n",
       "      <td>4</td>\n",
       "      <td>2</td>\n",
       "      <td>0</td>\n",
       "      <td>0</td>\n",
       "      <td>22</td>\n",
       "      <td>8</td>\n",
       "      <td>2</td>\n",
       "      <td>36.363636</td>\n",
       "    </tr>\n",
       "    <tr>\n",
       "      <th>244</th>\n",
       "      <td>2019</td>\n",
       "      <td>44</td>\n",
       "      <td>Netherlands</td>\n",
       "      <td>2</td>\n",
       "      <td>1</td>\n",
       "      <td>Japan</td>\n",
       "      <td>1</td>\n",
       "      <td>a</td>\n",
       "      <td>7</td>\n",
       "      <td>6</td>\n",
       "      <td>...</td>\n",
       "      <td>8</td>\n",
       "      <td>70.000000</td>\n",
       "      <td>3</td>\n",
       "      <td>1</td>\n",
       "      <td>0</td>\n",
       "      <td>1</td>\n",
       "      <td>29</td>\n",
       "      <td>14</td>\n",
       "      <td>24</td>\n",
       "      <td>48.275862</td>\n",
       "    </tr>\n",
       "  </tbody>\n",
       "</table>\n",
       "<p>245 rows × 24 columns</p>\n",
       "</div>"
      ],
      "text/plain": [
       "     year  match_number        team_a  goals_team_a  goals_team_b  \\\n",
       "0    1991             1      China PR             4             0   \n",
       "1    1991            23        Sweden             1             4   \n",
       "2    1991            13      China PR             4             1   \n",
       "3    1991             2       Denmark             3             0   \n",
       "4    1991             8        Norway             4             0   \n",
       "..    ...           ...           ...           ...           ...   \n",
       "240  2019            27  South Africa             0             4   \n",
       "241  2019            29       Jamaica             1             4   \n",
       "242  2019            33   Netherlands             2             1   \n",
       "243  2019            42        Sweden             1             0   \n",
       "244  2019            44   Netherlands             2             1   \n",
       "\n",
       "          team_b  score_diff winner  matches_played_a  matches_won_a  ...  \\\n",
       "0         Norway           4      a                 3              2  ...   \n",
       "1         Norway          -3      b                 6              4  ...   \n",
       "2    New Zealand           3      a                 3              2  ...   \n",
       "3    New Zealand           3      a                 3              1  ...   \n",
       "4    New Zealand           4      a                 6              4  ...   \n",
       "..           ...         ...    ...               ...            ...  ...   \n",
       "240      Germany          -4      b                 3              0  ...   \n",
       "241    Australia          -3      b                 3              0  ...   \n",
       "242       Canada           1      a                 7              6  ...   \n",
       "243       Canada           1      a                 7              5  ...   \n",
       "244        Japan           1      a                 7              6  ...   \n",
       "\n",
       "     podium_score_cum_a  matches_won_cum_percent_a  matches_played_b  \\\n",
       "0                     0                  66.666667                 6   \n",
       "1                     4                  66.666667                 6   \n",
       "2                     0                  66.666667                 3   \n",
       "3                     0                  33.333333                 3   \n",
       "4                     8                  66.666667                 3   \n",
       "..                  ...                        ...               ...   \n",
       "240                   0                   0.000000                 5   \n",
       "241                   0                   0.000000                 3   \n",
       "242                   8                  70.000000                 4   \n",
       "243                  20                  65.714286                 4   \n",
       "244                   8                  70.000000                 3   \n",
       "\n",
       "     matches_won_b  podium_score_b  cups_won_b  matches_played_cum_b  \\\n",
       "0                4               8           0                     6   \n",
       "1                4               8           0                     6   \n",
       "2                0               0           0                     3   \n",
       "3                0               0           0                     3   \n",
       "4                0               0           0                     3   \n",
       "..             ...             ...         ...                   ...   \n",
       "240              4               0           2                    39   \n",
       "241              2               0           0                    20   \n",
       "242              2               0           0                    22   \n",
       "243              2               0           0                    22   \n",
       "244              1               0           1                    29   \n",
       "\n",
       "     matches_won_cum_b  podium_score_cum_b  matches_won_cum_percent_b  \n",
       "0                    4                   8                  66.666667  \n",
       "1                    4                   8                  66.666667  \n",
       "2                    0                   0                   0.000000  \n",
       "3                    0                   0                   0.000000  \n",
       "4                    0                   0                   0.000000  \n",
       "..                 ...                 ...                        ...  \n",
       "240                 30                  44                  76.923077  \n",
       "241                  7                   0                  35.000000  \n",
       "242                  8                   2                  36.363636  \n",
       "243                  8                   2                  36.363636  \n",
       "244                 14                  24                  48.275862  \n",
       "\n",
       "[245 rows x 24 columns]"
      ]
     },
     "execution_count": 7,
     "metadata": {},
     "output_type": "execute_result"
    }
   ],
   "source": [
    "dataframe"
   ]
  },
  {
   "cell_type": "code",
   "execution_count": 8,
   "id": "98270e51",
   "metadata": {},
   "outputs": [],
   "source": [
    "dataframe_dp = dataframe[[\"year\",\"matches_won_cum_percent_a\",\"podium_score_cum_a\",\"matches_won_cum_percent_b\",\"podium_score_cum_b\",\"winner\"]]"
   ]
  },
  {
   "cell_type": "code",
   "execution_count": 9,
   "id": "f46125c9",
   "metadata": {},
   "outputs": [
    {
     "data": {
      "text/html": [
       "<div>\n",
       "<style scoped>\n",
       "    .dataframe tbody tr th:only-of-type {\n",
       "        vertical-align: middle;\n",
       "    }\n",
       "\n",
       "    .dataframe tbody tr th {\n",
       "        vertical-align: top;\n",
       "    }\n",
       "\n",
       "    .dataframe thead th {\n",
       "        text-align: right;\n",
       "    }\n",
       "</style>\n",
       "<table border=\"1\" class=\"dataframe\">\n",
       "  <thead>\n",
       "    <tr style=\"text-align: right;\">\n",
       "      <th></th>\n",
       "      <th>year</th>\n",
       "      <th>matches_won_cum_percent_a</th>\n",
       "      <th>podium_score_cum_a</th>\n",
       "      <th>matches_won_cum_percent_b</th>\n",
       "      <th>podium_score_cum_b</th>\n",
       "      <th>winner</th>\n",
       "    </tr>\n",
       "  </thead>\n",
       "  <tbody>\n",
       "    <tr>\n",
       "      <th>0</th>\n",
       "      <td>1991</td>\n",
       "      <td>66.666667</td>\n",
       "      <td>0</td>\n",
       "      <td>66.666667</td>\n",
       "      <td>8</td>\n",
       "      <td>a</td>\n",
       "    </tr>\n",
       "    <tr>\n",
       "      <th>1</th>\n",
       "      <td>1991</td>\n",
       "      <td>66.666667</td>\n",
       "      <td>4</td>\n",
       "      <td>66.666667</td>\n",
       "      <td>8</td>\n",
       "      <td>b</td>\n",
       "    </tr>\n",
       "    <tr>\n",
       "      <th>2</th>\n",
       "      <td>1991</td>\n",
       "      <td>66.666667</td>\n",
       "      <td>0</td>\n",
       "      <td>0.000000</td>\n",
       "      <td>0</td>\n",
       "      <td>a</td>\n",
       "    </tr>\n",
       "    <tr>\n",
       "      <th>3</th>\n",
       "      <td>1991</td>\n",
       "      <td>33.333333</td>\n",
       "      <td>0</td>\n",
       "      <td>0.000000</td>\n",
       "      <td>0</td>\n",
       "      <td>a</td>\n",
       "    </tr>\n",
       "    <tr>\n",
       "      <th>4</th>\n",
       "      <td>1991</td>\n",
       "      <td>66.666667</td>\n",
       "      <td>8</td>\n",
       "      <td>0.000000</td>\n",
       "      <td>0</td>\n",
       "      <td>a</td>\n",
       "    </tr>\n",
       "    <tr>\n",
       "      <th>...</th>\n",
       "      <td>...</td>\n",
       "      <td>...</td>\n",
       "      <td>...</td>\n",
       "      <td>...</td>\n",
       "      <td>...</td>\n",
       "      <td>...</td>\n",
       "    </tr>\n",
       "    <tr>\n",
       "      <th>240</th>\n",
       "      <td>2019</td>\n",
       "      <td>0.000000</td>\n",
       "      <td>0</td>\n",
       "      <td>76.923077</td>\n",
       "      <td>44</td>\n",
       "      <td>b</td>\n",
       "    </tr>\n",
       "    <tr>\n",
       "      <th>241</th>\n",
       "      <td>2019</td>\n",
       "      <td>0.000000</td>\n",
       "      <td>0</td>\n",
       "      <td>35.000000</td>\n",
       "      <td>0</td>\n",
       "      <td>b</td>\n",
       "    </tr>\n",
       "    <tr>\n",
       "      <th>242</th>\n",
       "      <td>2019</td>\n",
       "      <td>70.000000</td>\n",
       "      <td>8</td>\n",
       "      <td>36.363636</td>\n",
       "      <td>2</td>\n",
       "      <td>a</td>\n",
       "    </tr>\n",
       "    <tr>\n",
       "      <th>243</th>\n",
       "      <td>2019</td>\n",
       "      <td>65.714286</td>\n",
       "      <td>20</td>\n",
       "      <td>36.363636</td>\n",
       "      <td>2</td>\n",
       "      <td>a</td>\n",
       "    </tr>\n",
       "    <tr>\n",
       "      <th>244</th>\n",
       "      <td>2019</td>\n",
       "      <td>70.000000</td>\n",
       "      <td>8</td>\n",
       "      <td>48.275862</td>\n",
       "      <td>24</td>\n",
       "      <td>a</td>\n",
       "    </tr>\n",
       "  </tbody>\n",
       "</table>\n",
       "<p>245 rows × 6 columns</p>\n",
       "</div>"
      ],
      "text/plain": [
       "     year  matches_won_cum_percent_a  podium_score_cum_a  \\\n",
       "0    1991                  66.666667                   0   \n",
       "1    1991                  66.666667                   4   \n",
       "2    1991                  66.666667                   0   \n",
       "3    1991                  33.333333                   0   \n",
       "4    1991                  66.666667                   8   \n",
       "..    ...                        ...                 ...   \n",
       "240  2019                   0.000000                   0   \n",
       "241  2019                   0.000000                   0   \n",
       "242  2019                  70.000000                   8   \n",
       "243  2019                  65.714286                  20   \n",
       "244  2019                  70.000000                   8   \n",
       "\n",
       "     matches_won_cum_percent_b  podium_score_cum_b winner  \n",
       "0                    66.666667                   8      a  \n",
       "1                    66.666667                   8      b  \n",
       "2                     0.000000                   0      a  \n",
       "3                     0.000000                   0      a  \n",
       "4                     0.000000                   0      a  \n",
       "..                         ...                 ...    ...  \n",
       "240                  76.923077                  44      b  \n",
       "241                  35.000000                   0      b  \n",
       "242                  36.363636                   2      a  \n",
       "243                  36.363636                   2      a  \n",
       "244                  48.275862                  24      a  \n",
       "\n",
       "[245 rows x 6 columns]"
      ]
     },
     "execution_count": 9,
     "metadata": {},
     "output_type": "execute_result"
    }
   ],
   "source": [
    "dataframe_dp"
   ]
  },
  {
   "cell_type": "code",
   "execution_count": 10,
   "id": "7c1d4d9d",
   "metadata": {},
   "outputs": [],
   "source": [
    "dataset = dataframe_dp.values"
   ]
  },
  {
   "cell_type": "code",
   "execution_count": 11,
   "id": "a07ff469",
   "metadata": {},
   "outputs": [
    {
     "data": {
      "text/plain": [
       "array([[1991, 66.66666666666666, 0, 66.66666666666666, 8, 'a'],\n",
       "       [1991, 66.66666666666666, 4, 66.66666666666666, 8, 'b'],\n",
       "       [1991, 66.66666666666666, 0, 0.0, 0, 'a'],\n",
       "       ...,\n",
       "       [2019, 70.0, 8, 36.36363636363637, 2, 'a'],\n",
       "       [2019, 65.71428571428571, 20, 36.36363636363637, 2, 'a'],\n",
       "       [2019, 70.0, 8, 48.27586206896552, 24, 'a']], dtype=object)"
      ]
     },
     "execution_count": 11,
     "metadata": {},
     "output_type": "execute_result"
    }
   ],
   "source": [
    "dataset"
   ]
  },
  {
   "cell_type": "code",
   "execution_count": 12,
   "id": "cf412535",
   "metadata": {},
   "outputs": [],
   "source": [
    "X = dataset[:,0:5].astype(np.float32)\n",
    "Y = dataset[:,5]"
   ]
  },
  {
   "cell_type": "code",
   "execution_count": 13,
   "id": "858f5b79",
   "metadata": {},
   "outputs": [
    {
     "data": {
      "text/plain": [
       "array([[1.9910000e+03, 6.6666664e+01, 0.0000000e+00, 6.6666664e+01,\n",
       "        8.0000000e+00],\n",
       "       [1.9910000e+03, 6.6666664e+01, 4.0000000e+00, 6.6666664e+01,\n",
       "        8.0000000e+00],\n",
       "       [1.9910000e+03, 6.6666664e+01, 0.0000000e+00, 0.0000000e+00,\n",
       "        0.0000000e+00],\n",
       "       ...,\n",
       "       [2.0190000e+03, 7.0000000e+01, 8.0000000e+00, 3.6363636e+01,\n",
       "        2.0000000e+00],\n",
       "       [2.0190000e+03, 6.5714287e+01, 2.0000000e+01, 3.6363636e+01,\n",
       "        2.0000000e+00],\n",
       "       [2.0190000e+03, 7.0000000e+01, 8.0000000e+00, 4.8275864e+01,\n",
       "        2.4000000e+01]], dtype=float32)"
      ]
     },
     "execution_count": 13,
     "metadata": {},
     "output_type": "execute_result"
    }
   ],
   "source": [
    "X"
   ]
  },
  {
   "cell_type": "code",
   "execution_count": 14,
   "id": "b260a8ce",
   "metadata": {},
   "outputs": [],
   "source": [
    "encoder = LabelEncoder()\n",
    "encoder.fit(Y)\n",
    "Y = encoder.transform(Y)"
   ]
  },
  {
   "cell_type": "code",
   "execution_count": 15,
   "id": "2e5905d4",
   "metadata": {
    "scrolled": true
   },
   "outputs": [
    {
     "data": {
      "text/plain": [
       "array([0, 1, 0, 0, 0, 1, 1, 1, 0, 0, 0, 1, 1, 1, 1, 1, 0, 1, 1, 1, 1, 1,\n",
       "       0, 0, 0, 0, 0, 1, 0, 0, 1, 0, 1, 1, 1, 0, 1, 0, 0, 0, 0, 0, 0, 0,\n",
       "       0, 0, 1, 1, 0, 0, 0, 0, 0, 1, 0, 0, 0, 0, 0, 0, 1, 0, 0, 1, 1, 0,\n",
       "       0, 0, 0, 1, 1, 0, 0, 1, 0, 1, 1, 0, 0, 0, 1, 0, 0, 0, 0, 1, 0, 1,\n",
       "       0, 0, 1, 0, 0, 0, 0, 0, 1, 1, 1, 0, 0, 0, 0, 1, 0, 0, 0, 1, 0, 0,\n",
       "       0, 1, 1, 1, 0, 0, 0, 0, 0, 0, 1, 1, 1, 0, 0, 0, 0, 0, 1, 0, 1, 1,\n",
       "       0, 0, 0, 1, 1, 0, 0, 0, 0, 1, 1, 0, 0, 0, 0, 0, 0, 0, 0, 1, 1, 1,\n",
       "       0, 1, 0, 0, 0, 1, 0, 0, 0, 1, 1, 1, 0, 0, 0, 0, 0, 0, 0, 1, 0, 1,\n",
       "       0, 0, 1, 0, 1, 1, 0, 0, 1, 0, 0, 0, 0, 1, 1, 1, 0, 0, 0, 1, 1, 0,\n",
       "       0, 0, 1, 0, 0, 1, 1, 1, 1, 1, 0, 1, 0, 0, 0, 0, 1, 1, 1, 0, 0, 1,\n",
       "       1, 1, 1, 0, 0, 0, 0, 0, 0, 0, 0, 0, 1, 0, 1, 0, 0, 0, 1, 1, 1, 1,\n",
       "       0, 0, 0])"
      ]
     },
     "execution_count": 15,
     "metadata": {},
     "output_type": "execute_result"
    }
   ],
   "source": [
    "Y"
   ]
  },
  {
   "cell_type": "markdown",
   "id": "31371ff4",
   "metadata": {},
   "source": [
    "### Criando o modelo"
   ]
  },
  {
   "cell_type": "code",
   "execution_count": 16,
   "id": "4960151c",
   "metadata": {},
   "outputs": [],
   "source": [
    "def create_baseline():\n",
    "    # Criar Modelo\n",
    "    model = Sequential()\n",
    "    model.add(Dense(10, input_dim=5, kernel_initializer='normal', activation='relu'))     \n",
    "    model.add(Dense(8, kernel_initializer='normal', activation='relu'))\n",
    "    model.add(Dense(6, kernel_initializer='normal', activation='relu'))\n",
    "    model.add(Dense(4, kernel_initializer='normal', activation='relu'))\n",
    "    model.add(Dense(1, kernel_initializer='normal', activation='sigmoid')) \n",
    "    # Compilar Modelo\n",
    "    model.compile(loss='binary_crossentropy', optimizer='adam', metrics=['accuracy']) \n",
    "    return model\n",
    "    model.save('final_model.pkl')"
   ]
  },
  {
   "cell_type": "code",
   "execution_count": 17,
   "id": "1e894c04",
   "metadata": {},
   "outputs": [
    {
     "data": {
      "text/plain": [
       "<keras.engine.sequential.Sequential at 0x1d39f7abe80>"
      ]
     },
     "execution_count": 17,
     "metadata": {},
     "output_type": "execute_result"
    }
   ],
   "source": [
    "create_baseline()"
   ]
  },
  {
   "cell_type": "code",
   "execution_count": 18,
   "id": "fae0f6a3",
   "metadata": {},
   "outputs": [
    {
     "name": "stderr",
     "output_type": "stream",
     "text": [
      "<ipython-input-18-9b18f3aa7767>:1: DeprecationWarning: KerasClassifier is deprecated, use Sci-Keras (https://github.com/adriangb/scikeras) instead. See https://www.adriangb.com/scikeras/stable/migration.html for help migrating.\n",
      "  estimator = KerasClassifier(build_fn=create_baseline, nb_epoch=100, batch_size=5, verbose=1)\n"
     ]
    }
   ],
   "source": [
    "estimator = KerasClassifier(build_fn=create_baseline, nb_epoch=100, batch_size=5, verbose=1)"
   ]
  },
  {
   "cell_type": "code",
   "execution_count": 20,
   "id": "67033814",
   "metadata": {},
   "outputs": [
    {
     "data": {
      "text/plain": [
       "<keras.wrappers.scikit_learn.KerasClassifier at 0x1d39f928af0>"
      ]
     },
     "execution_count": 20,
     "metadata": {},
     "output_type": "execute_result"
    }
   ],
   "source": [
    "estimator"
   ]
  },
  {
   "cell_type": "code",
   "execution_count": 21,
   "id": "f18948b0",
   "metadata": {},
   "outputs": [
    {
     "name": "stdout",
     "output_type": "stream",
     "text": [
      "44/44 [==============================] - 1s 2ms/step - loss: 0.6911 - accuracy: 0.5682\n",
      "5/5 [==============================] - 0s 3ms/step - loss: 0.6868 - accuracy: 0.6400\n",
      "44/44 [==============================] - 1s 2ms/step - loss: 0.6906 - accuracy: 0.5909\n",
      "5/5 [==============================] - 0s 2ms/step - loss: 0.6864 - accuracy: 0.6400\n",
      "44/44 [==============================] - 1s 2ms/step - loss: 0.6844 - accuracy: 0.6227\n",
      "5/5 [==============================] - 0s 3ms/step - loss: 0.6642 - accuracy: 0.6400\n",
      "44/44 [==============================] - 1s 2ms/step - loss: 0.6868 - accuracy: 0.6000\n",
      "5/5 [==============================] - 0s 3ms/step - loss: 0.6820 - accuracy: 0.6000\n",
      "44/44 [==============================] - 1s 2ms/step - loss: 0.6918 - accuracy: 0.6136\n",
      "5/5 [==============================] - 0s 2ms/step - loss: 0.6906 - accuracy: 0.6000\n",
      "45/45 [==============================] - 1s 2ms/step - loss: 0.6885 - accuracy: 0.5701\n",
      "5/5 [==============================] - 0s 2ms/step - loss: 0.6792 - accuracy: 0.6250\n",
      "45/45 [==============================] - 1s 2ms/step - loss: 0.6920 - accuracy: 0.5928\n",
      "5/5 [==============================] - 0s 2ms/step - loss: 0.6876 - accuracy: 0.6250\n",
      "45/45 [==============================] - 1s 2ms/step - loss: 0.6895 - accuracy: 0.6244\n",
      "5/5 [==============================] - 0s 2ms/step - loss: 0.6779 - accuracy: 0.6250\n",
      "45/45 [==============================] - 1s 2ms/step - loss: 0.6907 - accuracy: 0.6244\n",
      "5/5 [==============================] - 0s 2ms/step - loss: 0.6882 - accuracy: 0.6250\n",
      "45/45 [==============================] - 1s 2ms/step - loss: 0.6873 - accuracy: 0.6244\n",
      "5/5 [==============================] - 0s 3ms/step - loss: 0.6701 - accuracy: 0.6250\n",
      "Results: 62.45% (1.39%)\n"
     ]
    }
   ],
   "source": [
    "kfold = StratifiedKFold(n_splits=10, shuffle=True, random_state=seed)\n",
    "results = cross_val_score(estimator, X, Y, cv=kfold)\n",
    "print(\"Results: %.2f%% (%.2f%%)\" % (results.mean()*100, results.std()*100))"
   ]
  },
  {
   "cell_type": "code",
   "execution_count": 22,
   "id": "2a247863",
   "metadata": {},
   "outputs": [],
   "source": [
    "X_train, X_test, Y_train, Y_test = model_selection.train_test_split(X, Y, test_size=0.20)"
   ]
  },
  {
   "cell_type": "code",
   "execution_count": 23,
   "id": "3f9f83ca",
   "metadata": {
    "scrolled": true
   },
   "outputs": [
    {
     "name": "stdout",
     "output_type": "stream",
     "text": [
      "40/40 [==============================] - 1s 3ms/step - loss: 0.6813 - accuracy: 0.6173\n"
     ]
    },
    {
     "data": {
      "text/plain": [
       "<keras.callbacks.History at 0x1d3a36a5970>"
      ]
     },
     "execution_count": 23,
     "metadata": {},
     "output_type": "execute_result"
    }
   ],
   "source": [
    "estimator.fit(X_train, Y_train)"
   ]
  },
  {
   "cell_type": "markdown",
   "id": "0fefade0",
   "metadata": {},
   "source": [
    "### Olhando as previsões"
   ]
  },
  {
   "cell_type": "code",
   "execution_count": 24,
   "id": "2a1104a4",
   "metadata": {
    "scrolled": true
   },
   "outputs": [
    {
     "name": "stdout",
     "output_type": "stream",
     "text": [
      "2/2 [==============================] - 0s 3ms/step\n",
      "[[0]\n",
      " [0]\n",
      " [0]\n",
      " [0]\n",
      " [0]\n",
      " [0]\n",
      " [0]\n",
      " [0]\n",
      " [0]\n",
      " [0]\n",
      " [0]\n",
      " [0]\n",
      " [0]\n",
      " [0]\n",
      " [0]\n",
      " [0]\n",
      " [0]\n",
      " [0]\n",
      " [0]\n",
      " [0]\n",
      " [0]\n",
      " [0]\n",
      " [0]\n",
      " [0]\n",
      " [0]\n",
      " [0]\n",
      " [0]\n",
      " [0]\n",
      " [0]\n",
      " [0]\n",
      " [0]\n",
      " [0]\n",
      " [0]\n",
      " [0]\n",
      " [0]\n",
      " [0]\n",
      " [0]\n",
      " [0]\n",
      " [0]\n",
      " [0]\n",
      " [0]\n",
      " [0]\n",
      " [0]\n",
      " [0]\n",
      " [0]\n",
      " [0]\n",
      " [0]\n",
      " [0]\n",
      " [0]]\n"
     ]
    }
   ],
   "source": [
    "predictions = estimator.predict(X_test)\n",
    "print(predictions)"
   ]
  },
  {
   "cell_type": "code",
   "execution_count": 25,
   "id": "644c95fa",
   "metadata": {
    "scrolled": true
   },
   "outputs": [
    {
     "name": "stdout",
     "output_type": "stream",
     "text": [
      "0.6530612244897959\n"
     ]
    }
   ],
   "source": [
    "print(accuracy_score(Y_test, predictions))"
   ]
  },
  {
   "cell_type": "code",
   "execution_count": 26,
   "id": "e3e57a4a",
   "metadata": {},
   "outputs": [],
   "source": [
    "encoder = LabelEncoder()\n",
    "encoder.fit(Y)\n",
    "Y = encoder.transform(Y)"
   ]
  },
  {
   "cell_type": "code",
   "execution_count": 27,
   "id": "d56966e1",
   "metadata": {},
   "outputs": [
    {
     "data": {
      "text/plain": [
       "array([0, 1, 0, 0, 0, 1, 1, 1, 0, 0, 0, 1, 1, 1, 1, 1, 0, 1, 1, 1, 1, 1,\n",
       "       0, 0, 0, 0, 0, 1, 0, 0, 1, 0, 1, 1, 1, 0, 1, 0, 0, 0, 0, 0, 0, 0,\n",
       "       0, 0, 1, 1, 0, 0, 0, 0, 0, 1, 0, 0, 0, 0, 0, 0, 1, 0, 0, 1, 1, 0,\n",
       "       0, 0, 0, 1, 1, 0, 0, 1, 0, 1, 1, 0, 0, 0, 1, 0, 0, 0, 0, 1, 0, 1,\n",
       "       0, 0, 1, 0, 0, 0, 0, 0, 1, 1, 1, 0, 0, 0, 0, 1, 0, 0, 0, 1, 0, 0,\n",
       "       0, 1, 1, 1, 0, 0, 0, 0, 0, 0, 1, 1, 1, 0, 0, 0, 0, 0, 1, 0, 1, 1,\n",
       "       0, 0, 0, 1, 1, 0, 0, 0, 0, 1, 1, 0, 0, 0, 0, 0, 0, 0, 0, 1, 1, 1,\n",
       "       0, 1, 0, 0, 0, 1, 0, 0, 0, 1, 1, 1, 0, 0, 0, 0, 0, 0, 0, 1, 0, 1,\n",
       "       0, 0, 1, 0, 1, 1, 0, 0, 1, 0, 0, 0, 0, 1, 1, 1, 0, 0, 0, 1, 1, 0,\n",
       "       0, 0, 1, 0, 0, 1, 1, 1, 1, 1, 0, 1, 0, 0, 0, 0, 1, 1, 1, 0, 0, 1,\n",
       "       1, 1, 1, 0, 0, 0, 0, 0, 0, 0, 0, 0, 1, 0, 1, 0, 0, 0, 1, 1, 1, 1,\n",
       "       0, 0, 0], dtype=int64)"
      ]
     },
     "execution_count": 27,
     "metadata": {},
     "output_type": "execute_result"
    }
   ],
   "source": [
    "Y"
   ]
  },
  {
   "cell_type": "code",
   "execution_count": 28,
   "id": "8775815f",
   "metadata": {},
   "outputs": [
    {
     "name": "stdout",
     "output_type": "stream",
     "text": [
      "[0 0 0 0 0 0 0 0 0 0 0 0 0 0 0 0 0 0 0 0 0 0 0 0 0 0 0 0 0 0 0 0 0 0 0 0 0\n",
      " 0 0 0 0 0 0 0 0 0 0 0 0]\n"
     ]
    },
    {
     "name": "stderr",
     "output_type": "stream",
     "text": [
      "C:\\Users\\User\\anaconda3\\lib\\site-packages\\sklearn\\preprocessing\\_label.py:154: DataConversionWarning: A column-vector y was passed when a 1d array was expected. Please change the shape of y to (n_samples, ), for example using ravel().\n",
      "  y = column_or_1d(y, warn=True)\n"
     ]
    }
   ],
   "source": [
    "predictions_encoded = encoder.inverse_transform(predictions)\n",
    "print(predictions_encoded)"
   ]
  },
  {
   "cell_type": "code",
   "execution_count": 29,
   "id": "8ada2b3c",
   "metadata": {
    "scrolled": false
   },
   "outputs": [
    {
     "name": "stdout",
     "output_type": "stream",
     "text": [
      "2/2 [==============================] - 0s 3ms/step\n",
      "[[0.56802297 0.431977  ]\n",
      " [0.5690671  0.43093288]\n",
      " [0.5685619  0.4314381 ]\n",
      " [0.5687349  0.4312651 ]\n",
      " [0.56816745 0.43183252]\n",
      " [0.5681673  0.4318327 ]\n",
      " [0.5691018  0.4308982 ]\n",
      " [0.5681231  0.43187693]\n",
      " [0.5693954  0.4306046 ]\n",
      " [0.56913435 0.43086568]\n",
      " [0.569384   0.43061605]\n",
      " [0.56869197 0.431308  ]\n",
      " [0.56754637 0.43245366]\n",
      " [0.56939685 0.43060318]\n",
      " [0.56942195 0.43057805]\n",
      " [0.56930643 0.43069357]\n",
      " [0.56902725 0.43097275]\n",
      " [0.5687283  0.4312717 ]\n",
      " [0.56880116 0.43119887]\n",
      " [0.56864506 0.43135494]\n",
      " [0.5677259  0.43227413]\n",
      " [0.56874835 0.43125162]\n",
      " [0.5683284  0.4316716 ]\n",
      " [0.5676465  0.4323535 ]\n",
      " [0.5684846  0.4315154 ]\n",
      " [0.56843007 0.43156993]\n",
      " [0.56836116 0.43163887]\n",
      " [0.5680606  0.43193942]\n",
      " [0.5682371  0.43176287]\n",
      " [0.56932205 0.43067795]\n",
      " [0.5695512  0.43044874]\n",
      " [0.56880116 0.43119887]\n",
      " [0.56937885 0.43062115]\n",
      " [0.5676334  0.43236658]\n",
      " [0.5676902  0.4323098 ]\n",
      " [0.56803477 0.4319652 ]\n",
      " [0.5688     0.43120003]\n",
      " [0.5683576  0.4316424 ]\n",
      " [0.5689106  0.43108943]\n",
      " [0.56806886 0.43193114]\n",
      " [0.5684204  0.4315796 ]\n",
      " [0.5687518  0.43124816]\n",
      " [0.568612   0.43138802]\n",
      " [0.56866187 0.43133813]\n",
      " [0.56892717 0.4310728 ]\n",
      " [0.5689994  0.43100056]\n",
      " [0.5676902  0.4323098 ]\n",
      " [0.5677954  0.43220463]\n",
      " [0.5691408  0.43085924]]\n"
     ]
    }
   ],
   "source": [
    "probs = estimator.predict_proba(X_test)\n",
    "print(probs)"
   ]
  }
 ],
 "metadata": {
  "kernelspec": {
   "display_name": "Python 3",
   "language": "python",
   "name": "python3"
  },
  "language_info": {
   "codemirror_mode": {
    "name": "ipython",
    "version": 3
   },
   "file_extension": ".py",
   "mimetype": "text/x-python",
   "name": "python",
   "nbconvert_exporter": "python",
   "pygments_lexer": "ipython3",
   "version": "3.9.12"
  }
 },
 "nbformat": 4,
 "nbformat_minor": 5
}
